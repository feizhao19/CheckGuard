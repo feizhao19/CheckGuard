{
 "cells": [
  {
   "cell_type": "code",
   "execution_count": 1,
   "metadata": {},
   "outputs": [],
   "source": [
    "import os\n",
    "import json\n",
    "import uuid\n",
    "from tqdm import tqdm"
   ]
  },
  {
   "cell_type": "code",
   "execution_count": null,
   "metadata": {},
   "outputs": [],
   "source": []
  },
  {
   "cell_type": "markdown",
   "metadata": {},
   "source": [
    "### Drawer whole image"
   ]
  },
  {
   "cell_type": "code",
   "execution_count": 4,
   "metadata": {},
   "outputs": [
    {
     "name": "stderr",
     "output_type": "stream",
     "text": [
      "  0%|          | 0/12408 [00:00<?, ?it/s]"
     ]
    },
    {
     "name": "stderr",
     "output_type": "stream",
     "text": [
      "100%|██████████| 12408/12408 [00:00<00:00, 49269.17it/s]\n"
     ]
    },
    {
     "name": "stdout",
     "output_type": "stream",
     "text": [
      "Data saved successfully to /home/larry5/project/LLaVA-1.6-ft/data/peft/drawer/drawer_dataset.json\n"
     ]
    }
   ],
   "source": [
    "\n",
    "def format_gpt_response(drawer_ground_truth):\n",
    "    \"\"\"Generate formatted GPT response with drawer information.\"\"\"\n",
    "    return f'The drawer on this check is \"{drawer_ground_truth}\".'\n",
    "\n",
    "def load_and_process_drawer_data(root_path, output_json_path):\n",
    "    data_list = []\n",
    "    \n",
    "    # Iterate through the train folder\n",
    "    for folder in tqdm(os.listdir(root_path)):\n",
    "        folder_path = os.path.join(root_path, folder)\n",
    "        drawer_folder_path = os.path.join(folder_path, 'drawer')\n",
    "        \n",
    "        # Check if the \"drawer\" folder exists\n",
    "        if os.path.exists(drawer_folder_path):\n",
    "            ground_truth_path = os.path.join(drawer_folder_path, 'ground_truth.json')\n",
    "            \n",
    "            # Check if the ground_truth.json file exists\n",
    "            if os.path.exists(ground_truth_path):\n",
    "                with open(ground_truth_path, 'r') as f:\n",
    "                    ground_truth = json.load(f)\n",
    "                    drawer_value = ground_truth.get('value', '').replace(\"\\n\", \" \")\n",
    "                    \n",
    "                    # Create a sample entry\n",
    "                    sample = {\n",
    "                        \"id\": str(uuid.uuid4()),\n",
    "                        \"image\": f'03/dataset/images/train/{folder}.png',\n",
    "                        \"conversations\": [\n",
    "                            {\n",
    "                                \"from\": \"human\",\n",
    "                                \"value\": \"<image>\\nPlease give me the drawer on this check.\"\n",
    "                            },\n",
    "                            {\n",
    "                                \"from\": \"gpt\",\n",
    "                                \"value\": format_gpt_response(drawer_value)\n",
    "                            }\n",
    "                        ]\n",
    "                    }\n",
    "                    data_list.append(sample)\n",
    "    \n",
    "    # Save the data to a JSON file\n",
    "    with open(output_json_path, 'w') as f:\n",
    "        json.dump(data_list, f, indent=4)\n",
    "    \n",
    "    print(f\"Data saved successfully to {output_json_path}\")\n",
    "\n",
    "# Define the root path to the train folder and the output path for the JSON file\n",
    "root_train_path = \"/home/larry5/project/LLaVA-1.6-ft/data/data/image_caption/train/\"\n",
    "output_json_path = \"/home/larry5/project/LLaVA-1.6-ft/data/peft/drawer/drawer_dataset.json\"\n",
    "\n",
    "# Load and process the drawer data\n",
    "load_and_process_drawer_data(root_train_path, output_json_path)\n"
   ]
  },
  {
   "cell_type": "markdown",
   "metadata": {},
   "source": [
    "### Drawer sub image"
   ]
  },
  {
   "cell_type": "code",
   "execution_count": 3,
   "metadata": {},
   "outputs": [
    {
     "name": "stderr",
     "output_type": "stream",
     "text": [
      "100%|██████████| 12408/12408 [00:00<00:00, 52933.26it/s]\n"
     ]
    },
    {
     "name": "stdout",
     "output_type": "stream",
     "text": [
      "Data saved successfully to /home/larry5/project/LLaVA-1.6-ft/data/peft/drawer/drawer_dataset_subimage.json\n"
     ]
    }
   ],
   "source": [
    "\n",
    "def format_gpt_response(drawer_ground_truth):\n",
    "    \"\"\"Generate formatted GPT response with drawer information.\"\"\"\n",
    "    return f'The drawer on this check is \"{drawer_ground_truth}\".'\n",
    "\n",
    "def load_and_process_drawer_data(root_path, output_json_path):\n",
    "    data_list = []\n",
    "    \n",
    "    # Iterate through the train folder\n",
    "    for folder in tqdm(os.listdir(root_path)):\n",
    "        folder_path = os.path.join(root_path, folder)\n",
    "        drawer_folder_path = os.path.join(folder_path, 'drawer')\n",
    "        \n",
    "        # Check if the \"drawer\" folder exists\n",
    "        if os.path.exists(drawer_folder_path):\n",
    "            ground_truth_path = os.path.join(drawer_folder_path, 'ground_truth.json')\n",
    "            \n",
    "            # Check if the ground_truth.json file exists\n",
    "            if os.path.exists(ground_truth_path):\n",
    "                with open(ground_truth_path, 'r') as f:\n",
    "                    ground_truth = json.load(f)\n",
    "                    drawer_value = ground_truth.get('value', '').replace(\"\\n\", \" \")\n",
    "                    \n",
    "                    # Create a sample entry\n",
    "                    sample = {\n",
    "                        \"id\": str(uuid.uuid4()),\n",
    "                        \"image\": ground_truth_path.replace('ground_truth.json', 'subimage.png').replace(\"/home/larry5/project/LLaVA-1.6-ft/data/data/\", \"\"),\n",
    "                        \"conversations\": [\n",
    "                            {\n",
    "                                \"from\": \"human\",\n",
    "                                \"value\": \"<image>\\nPlease give me the drawer on this check.\"\n",
    "                            },\n",
    "                            {\n",
    "                                \"from\": \"gpt\",\n",
    "                                \"value\": format_gpt_response(drawer_value)\n",
    "                            }\n",
    "                        ]\n",
    "                    }\n",
    "                    data_list.append(sample)\n",
    "    \n",
    "    # Save the data to a JSON file\n",
    "    with open(output_json_path, 'w') as f:\n",
    "        json.dump(data_list, f, indent=4)\n",
    "    \n",
    "    print(f\"Data saved successfully to {output_json_path}\")\n",
    "\n",
    "# Define the root path to the train folder and the output path for the JSON file\n",
    "root_train_path = \"/home/larry5/project/LLaVA-1.6-ft/data/data/image_caption/train/\"\n",
    "output_json_path = \"/home/larry5/project/LLaVA-1.6-ft/data/peft/drawer/drawer_dataset_subimage.json\"\n",
    "\n",
    "# Load and process the drawer data\n",
    "load_and_process_drawer_data(root_train_path, output_json_path)\n"
   ]
  },
  {
   "cell_type": "code",
   "execution_count": null,
   "metadata": {},
   "outputs": [],
   "source": []
  },
  {
   "cell_type": "markdown",
   "metadata": {},
   "source": [
    "### Bank number image"
   ]
  },
  {
   "cell_type": "code",
   "execution_count": 8,
   "metadata": {},
   "outputs": [
    {
     "name": "stderr",
     "output_type": "stream",
     "text": [
      "100%|██████████| 12408/12408 [00:00<00:00, 52284.69it/s]\n"
     ]
    },
    {
     "name": "stdout",
     "output_type": "stream",
     "text": [
      "Data saved successfully to /home/larry5/project/LLaVA-1.6-ft/data/peft/bank_no/bank_no_dataset.json\n"
     ]
    }
   ],
   "source": [
    "import os\n",
    "import json\n",
    "import uuid\n",
    "from tqdm import tqdm\n",
    "\n",
    "def format_gpt_response(bank_no_ground_truth):\n",
    "    \"\"\"Generate formatted GPT response with bank number information.\"\"\"\n",
    "    return f'The bank number on this check is \"{bank_no_ground_truth}\".'\n",
    "\n",
    "def load_and_process_bank_no_data(root_path, output_json_path):\n",
    "    data_list = []\n",
    "    \n",
    "    # Iterate through the train folder\n",
    "    for folder in tqdm(os.listdir(root_path)):\n",
    "        folder_path = os.path.join(root_path, folder)\n",
    "        bank_no_folder_path = os.path.join(folder_path, 'back_no')\n",
    "        \n",
    "        # Check if the \"bank_no\" folder exists\n",
    "        if os.path.exists(bank_no_folder_path):\n",
    "            ground_truth_path = os.path.join(bank_no_folder_path, 'ground_truth.json')\n",
    "            \n",
    "            # Check if the ground_truth.json file exists\n",
    "            if os.path.exists(ground_truth_path):\n",
    "                with open(ground_truth_path, 'r') as f:\n",
    "                    ground_truth = json.load(f)\n",
    "                    bank_no_value = ground_truth.get('value', '').replace(\"\\n\", \" \")\n",
    "                    \n",
    "                    # Create a sample entry\n",
    "                    sample = {\n",
    "                        \"id\": str(uuid.uuid4()),\n",
    "                        \"image\": f'03/dataset/images/train/{folder}.png',\n",
    "                        \"conversations\": [\n",
    "                            {\n",
    "                                \"from\": \"human\",\n",
    "                                \"value\": '<image>\\nPlease give me the bank number on this check. Please use this answer template:The bank number on this check is \"xxx.\"'\n",
    "                            },\n",
    "                            {\n",
    "                                \"from\": \"gpt\",\n",
    "                                \"value\": format_gpt_response(bank_no_value)\n",
    "                            }\n",
    "                        ]\n",
    "                    }\n",
    "                    data_list.append(sample)\n",
    "    \n",
    "    # Save the data to a JSON file\n",
    "    with open(output_json_path, 'w') as f:\n",
    "        json.dump(data_list, f, indent=4)\n",
    "    \n",
    "    print(f\"Data saved successfully to {output_json_path}\")\n",
    "\n",
    "# Define the root path to the train folder and the output path for the JSON file\n",
    "root_train_path = \"/home/larry5/project/LLaVA-1.6-ft/data/data/image_caption/train/\"\n",
    "output_json_path = \"/home/larry5/project/LLaVA-1.6-ft/data/peft/bank_no/bank_no_dataset.json\"\n",
    "\n",
    "# Load and process the bank_no data\n",
    "load_and_process_bank_no_data(root_train_path, output_json_path)\n"
   ]
  },
  {
   "cell_type": "code",
   "execution_count": null,
   "metadata": {},
   "outputs": [],
   "source": []
  },
  {
   "cell_type": "code",
   "execution_count": 4,
   "metadata": {},
   "outputs": [],
   "source": []
  },
  {
   "cell_type": "markdown",
   "metadata": {},
   "source": [
    "### Bank number sub image"
   ]
  },
  {
   "cell_type": "code",
   "execution_count": 5,
   "metadata": {},
   "outputs": [
    {
     "name": "stderr",
     "output_type": "stream",
     "text": [
      "100%|██████████| 12408/12408 [00:00<00:00, 55752.59it/s]"
     ]
    },
    {
     "name": "stdout",
     "output_type": "stream",
     "text": [
      "Data saved successfully to /home/larry5/project/LLaVA-1.6-ft/data/peft/bank_no/bank_no_dataset_subimage.json\n"
     ]
    },
    {
     "name": "stderr",
     "output_type": "stream",
     "text": [
      "\n"
     ]
    }
   ],
   "source": [
    "import os\n",
    "import json\n",
    "import uuid\n",
    "from tqdm import tqdm\n",
    "\n",
    "def format_gpt_response(bank_no_ground_truth):\n",
    "    \"\"\"Generate formatted GPT response with bank number information.\"\"\"\n",
    "    return f'The bank number on this check is \"{bank_no_ground_truth}\".'\n",
    "\n",
    "def load_and_process_bank_no_data(root_path, output_json_path):\n",
    "    data_list = []\n",
    "    \n",
    "    # Iterate through the train folder\n",
    "    for folder in tqdm(os.listdir(root_path)):\n",
    "        folder_path = os.path.join(root_path, folder)\n",
    "        bank_no_folder_path = os.path.join(folder_path, 'back_no')\n",
    "        \n",
    "        # Check if the \"bank_no\" folder exists\n",
    "        if os.path.exists(bank_no_folder_path):\n",
    "            ground_truth_path = os.path.join(bank_no_folder_path, 'ground_truth.json')\n",
    "            \n",
    "            # Check if the ground_truth.json file exists\n",
    "            if os.path.exists(ground_truth_path):\n",
    "                with open(ground_truth_path, 'r') as f:\n",
    "                    ground_truth = json.load(f)\n",
    "                    bank_no_value = ground_truth.get('value', '').replace(\"\\n\", \" \")\n",
    "                    \n",
    "                    # Create a sample entry\n",
    "                    sample = {\n",
    "                        \"id\": str(uuid.uuid4()),\n",
    "                        \"image\": ground_truth_path.replace('ground_truth.json', 'subimage.png').replace(\"/home/larry5/project/LLaVA-1.6-ft/data/data/\", \"\"),\n",
    "                        \"conversations\": [\n",
    "                            {\n",
    "                                \"from\": \"human\",\n",
    "                                \"value\": '<image>\\nPlease give me the bank number on this check. Please use this answer template:The bank number on this check is \"xxx.\"'\n",
    "                            },\n",
    "                            {\n",
    "                                \"from\": \"gpt\",\n",
    "                                \"value\": format_gpt_response(bank_no_value)\n",
    "                            }\n",
    "                        ]\n",
    "                    }\n",
    "                    data_list.append(sample)\n",
    "    \n",
    "    # Save the data to a JSON file\n",
    "    with open(output_json_path, 'w') as f:\n",
    "        json.dump(data_list, f, indent=4)\n",
    "    \n",
    "    print(f\"Data saved successfully to {output_json_path}\")\n",
    "\n",
    "# Define the root path to the train folder and the output path for the JSON file\n",
    "root_train_path = \"/home/larry5/project/LLaVA-1.6-ft/data/data/image_caption/train/\"\n",
    "output_json_path = \"/home/larry5/project/LLaVA-1.6-ft/data/peft/bank_no/bank_no_dataset_subimage.json\"\n",
    "\n",
    "# Load and process the bank_no data\n",
    "load_and_process_bank_no_data(root_train_path, output_json_path)\n"
   ]
  },
  {
   "cell_type": "code",
   "execution_count": null,
   "metadata": {},
   "outputs": [],
   "source": []
  },
  {
   "cell_type": "code",
   "execution_count": null,
   "metadata": {},
   "outputs": [],
   "source": []
  },
  {
   "cell_type": "code",
   "execution_count": null,
   "metadata": {},
   "outputs": [],
   "source": []
  },
  {
   "cell_type": "code",
   "execution_count": null,
   "metadata": {},
   "outputs": [],
   "source": []
  },
  {
   "cell_type": "code",
   "execution_count": 7,
   "metadata": {},
   "outputs": [],
   "source": []
  },
  {
   "cell_type": "markdown",
   "metadata": {},
   "source": [
    "### check number class"
   ]
  },
  {
   "cell_type": "code",
   "execution_count": 10,
   "metadata": {},
   "outputs": [
    {
     "name": "stderr",
     "output_type": "stream",
     "text": [
      "100%|██████████| 12408/12408 [00:00<00:00, 59431.64it/s]"
     ]
    },
    {
     "name": "stdout",
     "output_type": "stream",
     "text": [
      "Data saved successfully to /home/larry5/project/LLaVA-1.6-ft/data/peft/check_no/check_no_dataset.json\n"
     ]
    },
    {
     "name": "stderr",
     "output_type": "stream",
     "text": [
      "\n"
     ]
    }
   ],
   "source": [
    "import os\n",
    "import json\n",
    "import uuid\n",
    "from tqdm import tqdm\n",
    "\n",
    "def format_gpt_response(check_no_ground_truth):\n",
    "    \"\"\"Generate formatted GPT response with check number information.\"\"\"\n",
    "    return f'The check number on this check is \"{check_no_ground_truth}\".'\n",
    "\n",
    "def load_and_process_check_no_data(root_path, output_json_path):\n",
    "    data_list = []\n",
    "    \n",
    "    # Iterate through the train folder\n",
    "    for folder in tqdm(os.listdir(root_path)):\n",
    "        folder_path = os.path.join(root_path, folder)\n",
    "        check_no_folder_path = os.path.join(folder_path, 'check_no')\n",
    "        \n",
    "        # Check if the \"check_no\" folder exists\n",
    "        if os.path.exists(check_no_folder_path):\n",
    "            ground_truth_path = os.path.join(check_no_folder_path, 'ground_truth.json')\n",
    "            \n",
    "            # Check if the ground_truth.json file exists\n",
    "            if os.path.exists(ground_truth_path):\n",
    "                with open(ground_truth_path, 'r') as f:\n",
    "                    ground_truth = json.load(f)\n",
    "                    check_no_value = ground_truth.get('value', '').replace(\"\\n\", \" \")\n",
    "                    \n",
    "                    # Create a sample entry\n",
    "                    sample = {\n",
    "                        \"id\": str(uuid.uuid4()),\n",
    "                        \"image\": f'03/dataset/images/train/{folder}.png',\n",
    "                        \"conversations\": [\n",
    "                            {\n",
    "                                \"from\": \"human\",\n",
    "                                \"value\": '<image>\\nPlease give me the check number on this check. Please use this answer template:The check number on this check is \"xxx.\"'\n",
    "                            },\n",
    "                            {\n",
    "                                \"from\": \"gpt\",\n",
    "                                \"value\": format_gpt_response(check_no_value)\n",
    "                            }\n",
    "                        ]\n",
    "                    }\n",
    "                    data_list.append(sample)\n",
    "    \n",
    "    # Save the data to a JSON file\n",
    "    with open(output_json_path, 'w') as f:\n",
    "        json.dump(data_list, f, indent=4)\n",
    "    \n",
    "    print(f\"Data saved successfully to {output_json_path}\")\n",
    "\n",
    "# Define the root path to the train folder and the output path for the JSON file\n",
    "root_train_path = \"/home/larry5/project/LLaVA-1.6-ft/data/data/image_caption/train/\"\n",
    "output_json_path = \"/home/larry5/project/LLaVA-1.6-ft/data/peft/check_no/check_no_dataset.json\"\n",
    "\n",
    "# Load and process the check_no data\n",
    "load_and_process_check_no_data(root_train_path, output_json_path)\n"
   ]
  },
  {
   "cell_type": "code",
   "execution_count": null,
   "metadata": {},
   "outputs": [],
   "source": []
  },
  {
   "cell_type": "code",
   "execution_count": null,
   "metadata": {},
   "outputs": [],
   "source": []
  },
  {
   "cell_type": "markdown",
   "metadata": {},
   "source": [
    "### Check number sub image class"
   ]
  },
  {
   "cell_type": "code",
   "execution_count": 7,
   "metadata": {},
   "outputs": [
    {
     "name": "stderr",
     "output_type": "stream",
     "text": [
      "100%|██████████| 12408/12408 [00:00<00:00, 57317.51it/s]"
     ]
    },
    {
     "name": "stdout",
     "output_type": "stream",
     "text": [
      "Data saved successfully to /home/larry5/project/LLaVA-1.6-ft/data/peft/check_no/check_no_dataset_subimage.json\n"
     ]
    },
    {
     "name": "stderr",
     "output_type": "stream",
     "text": [
      "\n"
     ]
    }
   ],
   "source": [
    "import os\n",
    "import json\n",
    "import uuid\n",
    "from tqdm import tqdm\n",
    "\n",
    "def format_gpt_response(check_no_ground_truth):\n",
    "    \"\"\"Generate formatted GPT response with check number information.\"\"\"\n",
    "    return f'The check number on this check is \"{check_no_ground_truth}\".'\n",
    "\n",
    "def load_and_process_check_no_data(root_path, output_json_path):\n",
    "    data_list = []\n",
    "    \n",
    "    # Iterate through the train folder\n",
    "    for folder in tqdm(os.listdir(root_path)):\n",
    "        folder_path = os.path.join(root_path, folder)\n",
    "        check_no_folder_path = os.path.join(folder_path, 'check_no')\n",
    "        \n",
    "        # Check if the \"check_no\" folder exists\n",
    "        if os.path.exists(check_no_folder_path):\n",
    "            ground_truth_path = os.path.join(check_no_folder_path, 'ground_truth.json')\n",
    "            \n",
    "            # Check if the ground_truth.json file exists\n",
    "            if os.path.exists(ground_truth_path):\n",
    "                with open(ground_truth_path, 'r') as f:\n",
    "                    ground_truth = json.load(f)\n",
    "                    check_no_value = ground_truth.get('value', '').replace(\"\\n\", \" \")\n",
    "                    \n",
    "                    # Create a sample entry\n",
    "                    sample = {\n",
    "                        \"id\": str(uuid.uuid4()),\n",
    "                        \"image\": ground_truth_path.replace('ground_truth.json', 'subimage.png').replace(\"/home/larry5/project/LLaVA-1.6-ft/data/data/\", \"\"),\n",
    "                        \"conversations\": [\n",
    "                            {\n",
    "                                \"from\": \"human\",\n",
    "                                \"value\": '<image>\\nPlease give me the check number on this check. Please use this answer template:The check number on this check is \"xxx.\"'\n",
    "                            },\n",
    "                            {\n",
    "                                \"from\": \"gpt\",\n",
    "                                \"value\": format_gpt_response(check_no_value)\n",
    "                            }\n",
    "                        ]\n",
    "                    }\n",
    "                    data_list.append(sample)\n",
    "    \n",
    "    # Save the data to a JSON file\n",
    "    with open(output_json_path, 'w') as f:\n",
    "        json.dump(data_list, f, indent=4)\n",
    "    \n",
    "    print(f\"Data saved successfully to {output_json_path}\")\n",
    "\n",
    "# Define the root path to the train folder and the output path for the JSON file\n",
    "root_train_path = \"/home/larry5/project/LLaVA-1.6-ft/data/data/image_caption/train/\"\n",
    "output_json_path = \"/home/larry5/project/LLaVA-1.6-ft/data/peft/check_no/check_no_dataset_subimage.json\"\n",
    "\n",
    "# Load and process the check_no data\n",
    "load_and_process_check_no_data(root_train_path, output_json_path)\n"
   ]
  },
  {
   "cell_type": "code",
   "execution_count": null,
   "metadata": {},
   "outputs": [],
   "source": []
  },
  {
   "cell_type": "code",
   "execution_count": null,
   "metadata": {},
   "outputs": [],
   "source": []
  },
  {
   "cell_type": "markdown",
   "metadata": {},
   "source": [
    "### bank class"
   ]
  },
  {
   "cell_type": "code",
   "execution_count": null,
   "metadata": {},
   "outputs": [],
   "source": []
  },
  {
   "cell_type": "code",
   "execution_count": 11,
   "metadata": {},
   "outputs": [
    {
     "name": "stderr",
     "output_type": "stream",
     "text": [
      "100%|██████████| 12408/12408 [00:00<00:00, 52509.10it/s]\n"
     ]
    },
    {
     "name": "stdout",
     "output_type": "stream",
     "text": [
      "Data saved successfully to /home/larry5/project/LLaVA-1.6-ft/data/peft/bank/bank_dataset.json\n"
     ]
    }
   ],
   "source": [
    "import os\n",
    "import json\n",
    "import uuid\n",
    "from tqdm import tqdm\n",
    "\n",
    "def format_gpt_response(bank_ground_truth):\n",
    "    \"\"\"Generate formatted GPT response with bank information.\"\"\"\n",
    "    return f'The bank name on this check is \"{bank_ground_truth}\".'\n",
    "\n",
    "def load_and_process_bank_data(root_path, output_json_path):\n",
    "    data_list = []\n",
    "    \n",
    "    # Iterate through the train folder\n",
    "    for folder in tqdm(os.listdir(root_path)):\n",
    "        folder_path = os.path.join(root_path, folder)\n",
    "        bank_folder_path = os.path.join(folder_path, 'bank')\n",
    "        \n",
    "        # Check if the \"bank\" folder exists\n",
    "        if os.path.exists(bank_folder_path):\n",
    "            ground_truth_path = os.path.join(bank_folder_path, 'ground_truth.json')\n",
    "            \n",
    "            # Check if the ground_truth.json file exists\n",
    "            if os.path.exists(ground_truth_path):\n",
    "                with open(ground_truth_path, 'r') as f:\n",
    "                    ground_truth = json.load(f)\n",
    "                    bank_value = ground_truth.get('value', '').replace(\"\\n\", \" \")\n",
    "                    \n",
    "                    # Create a sample entry\n",
    "                    sample = {\n",
    "                        \"id\": str(uuid.uuid4()),\n",
    "                        \"image\": f'03/dataset/images/train/{folder}.png',\n",
    "                        \"conversations\": [\n",
    "                            {\n",
    "                                \"from\": \"human\",\n",
    "                                \"value\": '<image>\\nPlease give me the bank name on this check. Please use this answer template:The bank name on this check is \"xxx.\"'\n",
    "                            },\n",
    "                            {\n",
    "                                \"from\": \"gpt\",\n",
    "                                \"value\": format_gpt_response(bank_value)\n",
    "                            }\n",
    "                        ]\n",
    "                    }\n",
    "                    data_list.append(sample)\n",
    "    \n",
    "    # Save the data to a JSON file\n",
    "    with open(output_json_path, 'w') as f:\n",
    "        json.dump(data_list, f, indent=4)\n",
    "    \n",
    "    print(f\"Data saved successfully to {output_json_path}\")\n",
    "\n",
    "# Define the root path to the train folder and the output path for the JSON file\n",
    "root_train_path = \"/home/larry5/project/LLaVA-1.6-ft/data/data/image_caption/train/\"\n",
    "output_json_path = \"/home/larry5/project/LLaVA-1.6-ft/data/peft/bank/bank_dataset.json\"\n",
    "\n",
    "# Load and process the bank data\n",
    "load_and_process_bank_data(root_train_path, output_json_path)\n"
   ]
  },
  {
   "cell_type": "code",
   "execution_count": null,
   "metadata": {},
   "outputs": [],
   "source": []
  },
  {
   "cell_type": "markdown",
   "metadata": {},
   "source": [
    "### bank subimage"
   ]
  },
  {
   "cell_type": "code",
   "execution_count": 8,
   "metadata": {},
   "outputs": [
    {
     "name": "stderr",
     "output_type": "stream",
     "text": [
      "100%|██████████| 12408/12408 [00:00<00:00, 55765.14it/s]"
     ]
    },
    {
     "name": "stdout",
     "output_type": "stream",
     "text": [
      "Data saved successfully to /home/larry5/project/LLaVA-1.6-ft/data/peft/bank/bank_dataset_subimage.json\n"
     ]
    },
    {
     "name": "stderr",
     "output_type": "stream",
     "text": [
      "\n"
     ]
    }
   ],
   "source": [
    "import os\n",
    "import json\n",
    "import uuid\n",
    "from tqdm import tqdm\n",
    "\n",
    "def format_gpt_response(bank_ground_truth):\n",
    "    \"\"\"Generate formatted GPT response with bank information.\"\"\"\n",
    "    return f'The bank name on this check is \"{bank_ground_truth}\".'\n",
    "\n",
    "def load_and_process_bank_data(root_path, output_json_path):\n",
    "    data_list = []\n",
    "    \n",
    "    # Iterate through the train folder\n",
    "    for folder in tqdm(os.listdir(root_path)):\n",
    "        folder_path = os.path.join(root_path, folder)\n",
    "        bank_folder_path = os.path.join(folder_path, 'bank')\n",
    "        \n",
    "        # Check if the \"bank\" folder exists\n",
    "        if os.path.exists(bank_folder_path):\n",
    "            ground_truth_path = os.path.join(bank_folder_path, 'ground_truth.json')\n",
    "            \n",
    "            # Check if the ground_truth.json file exists\n",
    "            if os.path.exists(ground_truth_path):\n",
    "                with open(ground_truth_path, 'r') as f:\n",
    "                    ground_truth = json.load(f)\n",
    "                    bank_value = ground_truth.get('value', '').replace(\"\\n\", \" \")\n",
    "                    \n",
    "                    # Create a sample entry\n",
    "                    sample = {\n",
    "                        \"id\": str(uuid.uuid4()),\n",
    "                        \"image\": ground_truth_path.replace('ground_truth.json', 'subimage.png').replace(\"/home/larry5/project/LLaVA-1.6-ft/data/data/\", \"\"),\n",
    "                        \"conversations\": [\n",
    "                            {\n",
    "                                \"from\": \"human\",\n",
    "                                \"value\": '<image>\\nPlease give me the bank name on this check. Please use this answer template:The bank name on this check is \"xxx.\"'\n",
    "                            },\n",
    "                            {\n",
    "                                \"from\": \"gpt\",\n",
    "                                \"value\": format_gpt_response(bank_value)\n",
    "                            }\n",
    "                        ]\n",
    "                    }\n",
    "                    data_list.append(sample)\n",
    "    \n",
    "    # Save the data to a JSON file\n",
    "    with open(output_json_path, 'w') as f:\n",
    "        json.dump(data_list, f, indent=4)\n",
    "    \n",
    "    print(f\"Data saved successfully to {output_json_path}\")\n",
    "\n",
    "# Define the root path to the train folder and the output path for the JSON file\n",
    "root_train_path = \"/home/larry5/project/LLaVA-1.6-ft/data/data/image_caption/train/\"\n",
    "output_json_path = \"/home/larry5/project/LLaVA-1.6-ft/data/peft/bank/bank_dataset_subimage.json\"\n",
    "\n",
    "# Load and process the bank data\n",
    "load_and_process_bank_data(root_train_path, output_json_path)\n"
   ]
  },
  {
   "cell_type": "code",
   "execution_count": null,
   "metadata": {},
   "outputs": [],
   "source": []
  }
 ],
 "metadata": {
  "language_info": {
   "name": "python"
  }
 },
 "nbformat": 4,
 "nbformat_minor": 2
}
